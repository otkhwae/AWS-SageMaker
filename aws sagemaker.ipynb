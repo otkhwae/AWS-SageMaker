{
 "cells": [
  {
   "attachments": {},
   "cell_type": "markdown",
   "metadata": {},
   "source": [
    "# What is SageMaker (SM)"
   ]
  },
  {
   "attachments": {},
   "cell_type": "markdown",
   "metadata": {},
   "source": [
    "used to build, train and deploy ML models"
   ]
  },
  {
   "attachments": {},
   "cell_type": "markdown",
   "metadata": {},
   "source": [
    "# Various features of SM"
   ]
  },
  {
   "attachments": {},
   "cell_type": "markdown",
   "metadata": {},
   "source": [
    "1. Prepare model:\n",
    "- ground truth\n",
    "- clarify\n",
    "- data wrangler\n",
    "\n",
    "2. Build Model\n",
    "- Jumpstart\n",
    "- Autopilot\n",
    "- Builtin\n",
    "\n",
    "3. Train model\n",
    "- Experiments\n",
    "- Managed training\n",
    "- Distributed training\n",
    "\n",
    "4. Deploy model\n",
    " - Model Monitor\n",
    " - Endpoints\n",
    " - Inference"
   ]
  },
  {
   "attachments": {},
   "cell_type": "markdown",
   "metadata": {},
   "source": [
    "## Prepare model"
   ]
  },
  {
   "attachments": {},
   "cell_type": "markdown",
   "metadata": {},
   "source": [
    "### Ground truth\n",
    "- data labelling\n",
    "\n",
    "### clarify\n",
    "- detect bias and understand model predictions\n",
    "\n",
    "### data wrangler\n",
    "- dat filtering, joining..."
   ]
  },
  {
   "attachments": {},
   "cell_type": "markdown",
   "metadata": {},
   "source": [
    "## Build model"
   ]
  },
  {
   "attachments": {},
   "cell_type": "markdown",
   "metadata": {},
   "source": [
    "### Jumpstart\n",
    "- build & deploy model with no code for newbies using GUI interface\n",
    "\n",
    "### autopilot\n",
    "- creates multiple models and you choose the best algo \n",
    "\n",
    "### builtin\n",
    "- in built in notebooks and algos to use eg nlp algo"
   ]
  },
  {
   "attachments": {},
   "cell_type": "markdown",
   "metadata": {},
   "source": [
    "## Train model"
   ]
  },
  {
   "attachments": {},
   "cell_type": "markdown",
   "metadata": {},
   "source": [
    "### Experiments\n",
    "- enable you to track, visualize and share model articats across teams\n",
    "\n",
    "### Managed training\n",
    "- aws fully manage training, itll allocate resources, while minimizing cost. it reduces cost by over 50%\n",
    "\n",
    "### Distributed training\n",
    "- if you got large datasets or large deep learning models, distributed training wiil enable you to train your models in distributed kind of environment"
   ]
  },
  {
   "attachments": {},
   "cell_type": "markdown",
   "metadata": {},
   "source": [
    "## Deploy Model"
   ]
  },
  {
   "attachments": {},
   "cell_type": "markdown",
   "metadata": {},
   "source": [
    "### model monitor\n",
    "- monitor deployed model accuracy, bias, predictions, performance to unseen data...\n",
    "\n",
    "### endpoints\n",
    "- various endpoints are facilitated by aws. endpoints can be multi-model endpoint, multi-container endpoints for different purposes, severless inference\n",
    "\n",
    "### inference\n",
    "- there are multiple types of inference, you can have real time inference depending on traffic patterns you have for the model eg daily, weekly, monthly...usage"
   ]
  },
  {
   "attachments": {},
   "cell_type": "markdown",
   "metadata": {},
   "source": [
    "# Notebook (NB) instance vs SM Studio"
   ]
  },
  {
   "cell_type": "markdown",
   "metadata": {},
   "source": []
  },
  {
   "attachments": {},
   "cell_type": "markdown",
   "metadata": {},
   "source": [
    "# Launching Studio & NB instance"
   ]
  },
  {
   "cell_type": "markdown",
   "metadata": {},
   "source": []
  },
  {
   "cell_type": "markdown",
   "metadata": {},
   "source": []
  },
  {
   "cell_type": "markdown",
   "metadata": {},
   "source": []
  },
  {
   "cell_type": "code",
   "execution_count": null,
   "metadata": {},
   "outputs": [],
   "source": []
  }
 ],
 "metadata": {
  "kernelspec": {
   "display_name": "Python 3",
   "language": "python",
   "name": "python3"
  },
  "language_info": {
   "name": "python",
   "version": "3.10.2"
  },
  "orig_nbformat": 4,
  "vscode": {
   "interpreter": {
    "hash": "d067567a45b8f23f20893b96648ea0bdbfd0e7249a1e525a925501ea4bfa66c0"
   }
  }
 },
 "nbformat": 4,
 "nbformat_minor": 2
}
