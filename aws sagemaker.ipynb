{
 "cells": [
  {
   "attachments": {},
   "cell_type": "markdown",
   "metadata": {},
   "source": [
    "# What is SageMaker (SM)"
   ]
  },
  {
   "attachments": {},
   "cell_type": "markdown",
   "metadata": {},
   "source": [
    "used to build, train and deploy ML models"
   ]
  },
  {
   "attachments": {},
   "cell_type": "markdown",
   "metadata": {},
   "source": [
    "### AWS vs On Prem"
   ]
  },
  {
   "attachments": {},
   "cell_type": "markdown",
   "metadata": {},
   "source": [
    "#### things you manage on premises"
   ]
  },
  {
   "attachments": {},
   "cell_type": "markdown",
   "metadata": {},
   "source": [
    "- apps, data, runtime, middleware\n",
    "- OS, virtualization, servers\n",
    "- storage, networking"
   ]
  },
  {
   "attachments": {},
   "cell_type": "markdown",
   "metadata": {},
   "source": [
    "#### things you manage on Infrustructure as a service (IaaS)"
   ]
  },
  {
   "attachments": {},
   "cell_type": "markdown",
   "metadata": {},
   "source": [
    "- apps, data, runtime, middleware, OS\n",
    "\n",
    "1. things managed by aws\n",
    "- storage, networking,, virtualization, servers"
   ]
  },
  {
   "attachments": {},
   "cell_type": "markdown",
   "metadata": {},
   "source": [
    "#### things you manage on Platform as a service (PaaS)"
   ]
  },
  {
   "attachments": {},
   "cell_type": "markdown",
   "metadata": {},
   "source": [
    "- apps, data\n",
    "\n",
    "1. things managed by aws\n",
    "- OS, virtualization, servers\n",
    "- storage, networking, runtime, middleware\n",
    "\n"
   ]
  },
  {
   "attachments": {},
   "cell_type": "markdown",
   "metadata": {},
   "source": [
    "#### things you manage on Software as a service (SaaS)"
   ]
  },
  {
   "attachments": {},
   "cell_type": "markdown",
   "metadata": {},
   "source": [
    "nothing\n",
    "\n",
    "1. things managed by aws\n",
    "- apps, data, runtime, middleware\n",
    "- OS, virtualization, servers\n",
    "- storage, networking"
   ]
  },
  {
   "attachments": {},
   "cell_type": "markdown",
   "metadata": {},
   "source": [
    "# Overview"
   ]
  },
  {
   "attachments": {},
   "cell_type": "markdown",
   "metadata": {},
   "source": [
    "## Various features of SM"
   ]
  },
  {
   "attachments": {},
   "cell_type": "markdown",
   "metadata": {},
   "source": [
    "1. Prepare model:\n",
    "- ground truth\n",
    "- clarify\n",
    "- data wrangler\n",
    "\n",
    "2. Build Model\n",
    "- Jumpstart\n",
    "- Autopilot\n",
    "- Builtin\n",
    "\n",
    "3. Train model\n",
    "- Experiments\n",
    "- Managed training\n",
    "- Distributed training\n",
    "\n",
    "4. Deploy model\n",
    " - Model Monitor\n",
    " - Endpoints\n",
    " - Inference"
   ]
  },
  {
   "attachments": {},
   "cell_type": "markdown",
   "metadata": {},
   "source": [
    "### Prepare model"
   ]
  },
  {
   "attachments": {},
   "cell_type": "markdown",
   "metadata": {},
   "source": [
    "#### 1. Ground truth"
   ]
  },
  {
   "attachments": {},
   "cell_type": "markdown",
   "metadata": {},
   "source": [
    "- data labelling"
   ]
  },
  {
   "attachments": {},
   "cell_type": "markdown",
   "metadata": {},
   "source": [
    "#### 2. clarify"
   ]
  },
  {
   "attachments": {},
   "cell_type": "markdown",
   "metadata": {},
   "source": [
    "- detect bias and understand model predictions"
   ]
  },
  {
   "attachments": {},
   "cell_type": "markdown",
   "metadata": {},
   "source": [
    "#### 3. data wrangler"
   ]
  },
  {
   "attachments": {},
   "cell_type": "markdown",
   "metadata": {},
   "source": [
    "\n",
    "- dat filtering, joining...data engineering"
   ]
  },
  {
   "attachments": {},
   "cell_type": "markdown",
   "metadata": {},
   "source": [
    "### Build model"
   ]
  },
  {
   "attachments": {},
   "cell_type": "markdown",
   "metadata": {},
   "source": [
    "#### 1. Jumpstart\n"
   ]
  },
  {
   "attachments": {},
   "cell_type": "markdown",
   "metadata": {},
   "source": [
    "- build & deploy model with no code for newbies using GUI interface"
   ]
  },
  {
   "attachments": {},
   "cell_type": "markdown",
   "metadata": {},
   "source": [
    "#### 2. autopilot\n"
   ]
  },
  {
   "attachments": {},
   "cell_type": "markdown",
   "metadata": {},
   "source": [
    "- creates multiple models and you choose the best algo "
   ]
  },
  {
   "attachments": {},
   "cell_type": "markdown",
   "metadata": {},
   "source": [
    "#### 3. builtin"
   ]
  },
  {
   "attachments": {},
   "cell_type": "markdown",
   "metadata": {},
   "source": [
    "- in built in notebooks and algos to use eg nlp algo"
   ]
  },
  {
   "attachments": {},
   "cell_type": "markdown",
   "metadata": {},
   "source": [
    "### Train model"
   ]
  },
  {
   "attachments": {},
   "cell_type": "markdown",
   "metadata": {},
   "source": [
    "#### 1. Experiments\n"
   ]
  },
  {
   "attachments": {},
   "cell_type": "markdown",
   "metadata": {},
   "source": [
    "- enable you to track, visualize and share model articats across teams"
   ]
  },
  {
   "attachments": {},
   "cell_type": "markdown",
   "metadata": {},
   "source": [
    "#### 2. Managed training\n"
   ]
  },
  {
   "attachments": {},
   "cell_type": "markdown",
   "metadata": {},
   "source": [
    "- aws fully manage training, itll allocate resources, while minimizing cost. it reduces cost by over 50%"
   ]
  },
  {
   "attachments": {},
   "cell_type": "markdown",
   "metadata": {},
   "source": [
    "#### 3. Distributed training"
   ]
  },
  {
   "attachments": {},
   "cell_type": "markdown",
   "metadata": {},
   "source": [
    "- if you got large datasets or large deep learning models, distributed training wiil enable you to train your models in distributed kind of environment\n"
   ]
  },
  {
   "attachments": {},
   "cell_type": "markdown",
   "metadata": {},
   "source": [
    "### Deploy Model"
   ]
  },
  {
   "attachments": {},
   "cell_type": "markdown",
   "metadata": {},
   "source": [
    "#### 1. model monitor\n"
   ]
  },
  {
   "attachments": {},
   "cell_type": "markdown",
   "metadata": {},
   "source": [
    "- monitor deployed model accuracy, bias, predictions, performance to unseen data..."
   ]
  },
  {
   "attachments": {},
   "cell_type": "markdown",
   "metadata": {},
   "source": [
    "#### 2. endpoints\n"
   ]
  },
  {
   "attachments": {},
   "cell_type": "markdown",
   "metadata": {},
   "source": [
    "- various endpoints are facilitated by aws. endpoints can be multi-model endpoint, multi-container endpoints for different purposes, severless inference"
   ]
  },
  {
   "attachments": {},
   "cell_type": "markdown",
   "metadata": {},
   "source": [
    "#### 3. inference"
   ]
  },
  {
   "attachments": {},
   "cell_type": "markdown",
   "metadata": {},
   "source": [
    "- there are multiple types of inference, you can have real time inference depending on traffic patterns you have for the model eg daily, weekly, monthly...usage"
   ]
  },
  {
   "attachments": {},
   "cell_type": "markdown",
   "metadata": {},
   "source": [
    "# Architecture"
   ]
  },
  {
   "attachments": {},
   "cell_type": "markdown",
   "metadata": {},
   "source": [
    "### aws service to use\n"
   ]
  },
  {
   "attachments": {},
   "cell_type": "markdown",
   "metadata": {},
   "source": [
    "- aws API gateway\n",
    "- IAM\n",
    "- Sagemaker\n",
    "- Lambda\n",
    "- aws SNS\n",
    "- S3\n",
    "\n"
   ]
  },
  {
   "attachments": {},
   "cell_type": "markdown",
   "metadata": {},
   "source": [
    "### Proj overview"
   ]
  },
  {
   "attachments": {},
   "cell_type": "markdown",
   "metadata": {},
   "source": [
    "- we gonna create ML powered rest API with amazon API gateway & Sagemaker\n",
    "- predict stock price\n",
    "- a user make post request\n",
    "- response in json\n",
    "- email sent to user"
   ]
  },
  {
   "attachments": {},
   "cell_type": "markdown",
   "metadata": {},
   "source": [
    "1. end user/ client/ customer uses our app that allow them to send a REST style request to an API gateway endpoints\n",
    "2. these endpoints will trigger a lambda functions\n",
    "3. the lamda functions will then map or extract the request to a formart required by the sagemaker endpoint\n",
    "4. and invoke the sagemaker endpoints to obtain an inference from the model.\n",
    "5. once we have the result this lambda functions will then receive the inference from the sagemaker endpoints and make it to a response that is sent back to the client.\n",
    "6. these will be sent in 2 ways\n",
    "- 1st way is via api gateway with a json response\n",
    "- 2nd way is to clear amazon sns with an email notification\n",
    "\n"
   ]
  },
  {
   "attachments": {},
   "cell_type": "markdown",
   "metadata": {},
   "source": [
    "#### whats covered"
   ]
  },
  {
   "attachments": {},
   "cell_type": "markdown",
   "metadata": {},
   "source": [
    "1. build and train sagemaker model\n",
    "2. deploy and test sagemaker model as an endpoint\n",
    "3. once we have this endpoint we create lambda function to trigger/ invoke sagemaker endpoint to get info from inference & serve/ share response back to the customer via sns by triggering the aws sns servers or share response via api gateway \n",
    "4. build, deploy and test API gateway endpoint for the rest api that will help us connect/ trigger these lambda functions.\n",
    "5. once the lambda function is triggered, we will then envoke the endpoits to make inference"
   ]
  },
  {
   "attachments": {},
   "cell_type": "markdown",
   "metadata": {},
   "source": [
    "#### Sagemaker Overview"
   ]
  },
  {
   "attachments": {},
   "cell_type": "markdown",
   "metadata": {},
   "source": [
    "SM is a fully managed machine learning service hosted by amazon. with SM data scientist and developers can quickly and easily build and train ML models and then directly deploy them into a production ready hosted environment."
   ]
  },
  {
   "attachments": {},
   "cell_type": "markdown",
   "metadata": {},
   "source": [
    "1. four ways to build and train model in SM:\n",
    "\n",
    "- notebook instance: its a jupyter notebook and you dont have to manage servers. its a platform as a service, we just focus on the data and the app\n",
    "- script mode: allows you to build your own model on aws managed container. its a infrustructure as a service we manage app, data, runtime, middleware (Image) & OS.\n",
    "- docker container: alows you to bring your own docker container, load it up and build model.its a infrustructure as a service we manage app, data, runtime, middleware & OS\n",
    "- marketplace: ml solutions, its SaaS, aws manages everything."
   ]
  },
  {
   "attachments": {},
   "cell_type": "markdown",
   "metadata": {},
   "source": [
    "#### Notebook instance"
   ]
  },
  {
   "attachments": {},
   "cell_type": "markdown",
   "metadata": {},
   "source": [
    "SM notebook instance is a ML compute instance running jupyter notebook\n",
    "\n",
    "- aws: SM manages creating the instance and related resources\n",
    "- you: you prepare and process data, write code to train and deploy models to SM hosting and lastly test or validate your models."
   ]
  },
  {
   "attachments": {},
   "cell_type": "markdown",
   "metadata": {},
   "source": [
    "elastic inference allow us to split up our deployments "
   ]
  },
  {
   "cell_type": "markdown",
   "metadata": {},
   "source": []
  },
  {
   "cell_type": "markdown",
   "metadata": {},
   "source": []
  },
  {
   "cell_type": "markdown",
   "metadata": {},
   "source": []
  },
  {
   "cell_type": "markdown",
   "metadata": {},
   "source": []
  },
  {
   "cell_type": "markdown",
   "metadata": {},
   "source": []
  },
  {
   "cell_type": "markdown",
   "metadata": {},
   "source": []
  },
  {
   "cell_type": "markdown",
   "metadata": {},
   "source": []
  }
 ],
 "metadata": {
  "kernelspec": {
   "display_name": "Python 3",
   "language": "python",
   "name": "python3"
  },
  "language_info": {
   "name": "python",
   "version": "3.10.2"
  },
  "orig_nbformat": 4,
  "vscode": {
   "interpreter": {
    "hash": "d067567a45b8f23f20893b96648ea0bdbfd0e7249a1e525a925501ea4bfa66c0"
   }
  }
 },
 "nbformat": 4,
 "nbformat_minor": 2
}
