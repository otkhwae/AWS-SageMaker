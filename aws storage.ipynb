{
 "cells": [
  {
   "attachments": {},
   "cell_type": "markdown",
   "metadata": {},
   "source": [
    "# What is cloud computing"
   ]
  },
  {
   "attachments": {},
   "cell_type": "markdown",
   "metadata": {},
   "source": [
    "- cloud coomputing is the distribution of computing services via the internet (cloud), including servers, storage, databases, networking, software, analytics and intelligence to provide faster innovation, more flexible resources and economies of scale.\n",
    "-  cloud computing is you gaining access to infrustructure through web services with a pay as you go model."
   ]
  },
  {
   "attachments": {},
   "cell_type": "markdown",
   "metadata": {},
   "source": [
    "aws is a cloud computing platform that offers many web services like storage, web hosting, load balancing, auto scaling... through api calls. some can be infrustructure as a service, software as a service and platforma as a service.\n",
    "\n",
    "we can do auto scaling that will respond to increased demand eg app becoming more popular, you want that infrustructure to grow elastically. traditionally doing this on prem will be expensive, slow, difficult to implement.\n",
    "\n",
    "by going with a cloud provider youll avoid all these problems like no capital cost just operational cost, no buying infrustruccture before hand. with aws you pay as you go not upfront payment.\n",
    "\n",
    "with all these we can just concentrate in our business. in aws we can easily setup our databases, automate our backups, hvae more backups"
   ]
  },
  {
   "attachments": {},
   "cell_type": "markdown",
   "metadata": {},
   "source": [
    "<H8> Volatile storage:\n",
    "- is a storage that goes away when you reboot your server eg like RAM. on prem when you reboot RAM goes awaybut everything stays but on the cloud we got virtual machines in aws they are called EC2 instances, in google they are compute ending instances and on azure called virtual machines.\n",
    "- they all have local storage with them called instance storage or ephemeral storage\n",
    "- storage associated with virtual machines goes away when you reboot meaning it doesnt persist and thats why its called volatile storage since it doesnt perrsist after reboot.\n",
    "\n",
    "<H8> non volatile storage:\n",
    "- storage that doesnt go away after reboot eg harddrive storage\n",
    "\n",
    "<H10> Cloud storage categories\n",
    "- block storage\n",
    "- object storage\n",
    "- file storage\n",
    "\n"
   ]
  },
  {
   "attachments": {},
   "cell_type": "markdown",
   "metadata": {},
   "source": [
    "<H8> Block storage\n",
    "- is a type of storage area network or network based storageeg data center.\n",
    "- data is placed in blocks with a each block having a unique block identifier\n",
    "- cloud storage typically a block storage\n",
    "- since block storage is network storage its gonna be dependent on the speed of the network.\n",
    "- it scales very well & efficient because blocks can be placed anywhere\n",
    "\n",
    "<H8> Object storage\n",
    "- where your data is taken and broken down into objects\n",
    "- each obj is gonna have an identifier/ ID\n",
    "- theres gonna be some detailed metadata associated with each obj to describe it.\n",
    "- therefore obj storage is rich with meta data, therefore you can run SQL queries\n",
    "- therefor obj storage is highly searchable\n",
    "- obj storage is used for files that are static and dont change\n",
    "- if you wanna distribute software, video just pack in obj storage and distribute\n",
    "- obj storage is bad for files that change, so u cant use a harddrive since files change \n",
    "- when you change files in obj storage it creates new versions, and itll fill up storage array\n",
    "\n",
    "\n",
    "<H8> File storage\n",
    "- putting stuff in folders like in your hard drive\n"
   ]
  },
  {
   "attachments": {},
   "cell_type": "markdown",
   "metadata": {},
   "source": [
    "<H12> AWS storage types:\n",
    "- simple storage s3\n",
    "- EBS: Elastic Block Storage\n",
    "- EFS"
   ]
  },
  {
   "attachments": {},
   "cell_type": "markdown",
   "metadata": {},
   "source": [
    "# Amazon Simple Storage Service - S3"
   ]
  },
  {
   "attachments": {},
   "cell_type": "markdown",
   "metadata": {},
   "source": [
    "S3 is a storage service that allows enterprises/ individual to store,organise and protect (finely tuned access controls) any amount of data in the cloud.\n",
    "its an obj storage.\n",
    "\n",
    "s3 its not a hierarchical storage just flat storage. its organised like a database. there is a pointer poiting to data. but it can be used with a delimiter to feel like a folder ed using \"/\" like in directory eg url.\n",
    "\n",
    "S3 is built to be extremely robust & simple."
   ]
  },
  {
   "attachments": {},
   "cell_type": "markdown",
   "metadata": {},
   "source": [
    "<H8> finely tuned access controls:\n",
    "- you can give specific people in a specific company access to a specific bucket, you can maybe block them from accessing specific folders...\n",
    "\n",
    "<H8> S3 offers enhanced features like:\n",
    "- Scalability\n",
    "- security\n",
    "- performance\n",
    "- data availability"
   ]
  },
  {
   "attachments": {},
   "cell_type": "markdown",
   "metadata": {},
   "source": [
    "<H8> Bucket/ directory:\n",
    "- folder where we are gonna store data\n",
    "- a bucket is a container for objects.\n",
    "- each bucket have global/ universal unique name. so you cant have same bucket name as ewveryone.\n",
    "- you can store infinite amount of data in each bucket but an object can have max size of 5 TB\n",
    "- S3 llows to collect, store and analyze data from anywhere in any amount\n",
    "- dat is store in 3 availability zones to ensure data protection\n",
    " s3 is fully encrypted to ensure security"
   ]
  },
  {
   "attachments": {},
   "cell_type": "markdown",
   "metadata": {},
   "source": [
    "<H8> Benefits of s3:\n",
    "\n",
    "- scalable, available, durability\n",
    "- cost effective storage classes: trasition of obj depending on usage frequency\n",
    "- security : encryption at either start, rest or trasition, object lock, or bucket level security (access control)\n",
    "- query inplace (sql) at bucket level"
   ]
  },
  {
   "attachments": {},
   "cell_type": "markdown",
   "metadata": {},
   "source": [
    "<H8> Uses of S3:\n",
    "- since its object storage it can be used for \n",
    "- backup\n",
    "- static website hosting\n",
    "- content distribution\n",
    "- media software\n",
    "- disaster recovery planning\n",
    "- big data analytics"
   ]
  },
  {
   "attachments": {},
   "cell_type": "markdown",
   "metadata": {},
   "source": [
    "<H8> S3 Tiers\n",
    "\n",
    "1. standard s3\n",
    "- high frequency usage\n",
    "- high storage cost\n",
    "- high retrival cost\n",
    "\n",
    "2. s3 glacier\n",
    "- put data you dont need for a long time\n",
    "- less frequency usage\n",
    "- vault lock: no modifying data at all\n",
    "- low storage cost\n",
    "- low retrival cost\n",
    "- takes long to retrieve data unless paying more\n",
    "- data archival\n",
    "- less likely to be there when needed\n",
    "- located in 1 dat centers instead of multiple\n",
    "- great to store finacial, medical records...\n",
    "\n",
    "3. S3 Intelligent tier\n",
    "- put data on intelligent tier and amazon automatically move it from standard s3 all the way to s3 glacier depending on usage.\n",
    "- less costly as its placed on most cost effective platform\n",
    "- aws monitors data\n"
   ]
  },
  {
   "attachments": {},
   "cell_type": "markdown",
   "metadata": {},
   "source": [
    "<H8> S3 Versioning\n",
    "- obj storage creates a new version when data is modified\n",
    "- s3 versioning is natural versioninf function of aws\n",
    "- evrytime you modify an obj it creates a new version\n",
    "- it doesnt delete old versions\n",
    "\n",
    "<H8> multifactor authentication delete\n",
    "- where when you try to delete something it sends you a challenge\n",
    "- eg one time pin or token maybe sent to your phone eg online payment\n",
    "\n",
    " <H8> s3 encryption\n",
    "1. client side encryption\n",
    "- SSE-KMS system: this is a customer key\n",
    "- SSE-C key: gives customer complete autonomy over their encryption key\n",
    "\n",
    "2. sever side encryption\n",
    "- SSE-S3: aws key\n"
   ]
  },
  {
   "attachments": {},
   "cell_type": "markdown",
   "metadata": {},
   "source": [
    "<H8> Pre signed urls (PSU)\n",
    "- make access not private so that someone else can securely access content temporarily.\n",
    "- PSU can be created and sent to the person\n",
    "- PSU are created with your own encrption key\n",
    "\n",
    "<H8> Multiparts upload (MPU)\n",
    "- u can upload files up to 5 GB\n",
    "- use mpu to avoid data corruption\n",
    "- mpu splitys file into parts like idm then uploaded and reconstituted into a single file\n",
    "\n",
    "<H8> Instance storage\n",
    "- when setting up visual machine on cloud provider its called EC2 tool instance\n",
    "- rebbot and bye to it"
   ]
  },
  {
   "cell_type": "markdown",
   "metadata": {},
   "source": []
  },
  {
   "cell_type": "markdown",
   "metadata": {},
   "source": []
  }
 ],
 "metadata": {
  "kernelspec": {
   "display_name": "Python 3",
   "language": "python",
   "name": "python3"
  },
  "language_info": {
   "name": "python",
   "version": "3.10.2"
  },
  "orig_nbformat": 4,
  "vscode": {
   "interpreter": {
    "hash": "d067567a45b8f23f20893b96648ea0bdbfd0e7249a1e525a925501ea4bfa66c0"
   }
  }
 },
 "nbformat": 4,
 "nbformat_minor": 2
}
