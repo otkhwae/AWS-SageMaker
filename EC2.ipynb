{
 "cells": [
  {
   "attachments": {},
   "cell_type": "markdown",
   "metadata": {},
   "source": [
    "# AWS EC2 - Elastic Compute Clous"
   ]
  },
  {
   "attachments": {},
   "cell_type": "markdown",
   "metadata": {},
   "source": [
    "ec2 instances are servers on aws cloud to run your applications.\n",
    "\n",
    "its an elastic service that allows you to launch compute resources in aws and its called instances/ virtual machines. each instance got an operating system, ram, cpu, gpu, storage and network capabilities."
   ]
  },
  {
   "attachments": {},
   "cell_type": "markdown",
   "metadata": {},
   "source": [
    "<H4> Virtualization\n"
   ]
  },
  {
   "attachments": {},
   "cell_type": "markdown",
   "metadata": {},
   "source": [
    "long time ago a server used to host only one application but as they became more powerful with more cpu cores, more memory they could host multiple applications on same server.\n",
    "\n",
    "a hypervisor used to create multiple or virtual computers in the server each for a single application.\n",
    "each virtual machine is separate from each other and it runs its own operating system, has its own application and application system dependencies. and they cant talk to each other unless you want them to, through networking. so they are secure and isolated, whatever happens in the first virtual machine, itll not affect other virtual machines\n",
    "\n",
    "basically hypervisor chops us physical servers into a logical servers or virtual machines"
   ]
  },
  {
   "attachments": {},
   "cell_type": "markdown",
   "metadata": {},
   "source": [
    "EC2 basically is renting a server in the cloud instead of buying physical hardware ie gpus, cpus... to train your ml model. aws will take care of configuration for you."
   ]
  },
  {
   "attachments": {},
   "cell_type": "markdown",
   "metadata": {},
   "source": [
    "<H8> EC2 Pros\n",
    "- doesnt require purchase of hardware units\n",
    "- easilt scalable\n",
    "- pay as youuse"
   ]
  },
  {
   "attachments": {},
   "cell_type": "markdown",
   "metadata": {},
   "source": [
    "<H4> EC2 Instance types"
   ]
  },
  {
   "attachments": {},
   "cell_type": "markdown",
   "metadata": {},
   "source": [
    "- standard\n",
    "- memory optimized\n",
    "- compute optimized\n",
    "- accelerated computing\n",
    "\n",
    "aws provides a selection of instance types optimised for different ml roles. this instances compromise of varying combinations of CPUs, GPUs, RAM, storage and network capacity eg for standard: ml.t2.medium"
   ]
  },
  {
   "attachments": {},
   "cell_type": "markdown",
   "metadata": {},
   "source": [
    "1. stanadard type\n",
    "- these are the \"t2\"s & \"m5d\"s eg ml.t2.large, ml.m5d.2xlarge\n",
    "- least powerful class\n",
    "- low performance\n",
    "- when you launch an instance this type is default\n",
    "\n",
    "2. memory optimised\n",
    "- are for algos tat require more memory to train.\n",
    "-  these are the \"r\"s eg ml.r5.12xlarge, ml.r5d.24xlarge\n",
    "\n",
    "3. compute optimised\n",
    "- these are the \"c\"s eg ml.c5.18xlarge, ml.c4.8xlarge\n",
    "\n",
    "4. accelerated computing\n",
    "- these are specifically for gpus for DL models\n",
    "- these are the \"p,g,inf\"s eg ml.p3.2xlarge, ml.g4dn.16xlarge, ml.inf1.24xlarge\n",
    "\n",
    "when you train model is sagemake rstudio you got to specify the type of instance you are using\n",
    "\n",
    "<H8> Inference acceleration\n",
    "\n",
    "- aws offers you to have an accelerator on top of an endpoint and youll be able to leverage the speed of this accelerators at a fraction of a cost of having a dedicated gpu for u\n",
    "- aws sagemaker offer elastic inference (EI)\n",
    "- EI speeds up throughput and devrease latency to get real time inferences on your DL models\n",
    "- after model training is done, you need to deploy model and create an endpoint, then you make inferences on that endpoint eg send an obj like an image to get prediction.\n",
    "- instead of using a dedicated gpu instance for your endpoint, you can use a standard cpu instance and attach an accelerator\n",
    "- they are the \"eia\"s eg eia2.xlarge\n",
    "\n",
    "\n"
   ]
  },
  {
   "attachments": {},
   "cell_type": "markdown",
   "metadata": {},
   "source": [
    "<H4> Instance pricing"
   ]
  },
  {
   "attachments": {},
   "cell_type": "markdown",
   "metadata": {},
   "source": [
    "1. on demand\n",
    " - pay compute capacity by the hour\n",
    " - short term\n",
    " - scalable\n",
    "\n",
    "  2. spot instances\n",
    "- cheaper than on demand instance 90% cheaper\n",
    "- got to wait until they are not in-use\n",
    "- purchase spare capacity from aws\n",
    "- if someone else i willing to pay full amount for the capacity while youre using it, aws will shut down your instances\n",
    "- ususally used for large computing jobs used for batch processing\n",
    "- make sure whatever your running is being saved somewhere\n",
    "\n",
    " 3. reserved instances\n",
    " - reserve instances up front eg 1-3 yrs\n",
    " - can get massive discounts\n",
    "\n",
    "4. dedicated host\n",
    "- physical ec2 server that is dedicated for use\n",
    "- usually ec2 is multi-tenant meaning you are sharing the underlying hardware but here there is no sharing with other customers.\n",
    "\n",
    "5. Savings Plans\n",
    "- similar to reserve instances but it gives you the option to choose different compute models eg ec2 fargate which is a container service.\n",
    "\n",
    "\n",
    "6. Schedule instances\n",
    "- you purchase some capacity on recurring schedule\n",
    "\n",
    "7. capacity reservations\n",
    "-  you reserve some capacity to ensure its available to you when you need it."
   ]
  },
  {
   "attachments": {},
   "cell_type": "markdown",
   "metadata": {},
   "source": [
    "<H4> Identity & access Management (IAM)"
   ]
  },
  {
   "attachments": {},
   "cell_type": "markdown",
   "metadata": {},
   "source": [
    "- allow users to securely access and manage aws services\n",
    "- its free and global\n",
    "- root acount is admin\n",
    "- aws recommends to create IAM user & lockaway root user for security"
   ]
  },
  {
   "attachments": {},
   "cell_type": "markdown",
   "metadata": {},
   "source": [
    "<H4> Amazon Machine Image AMI"
   ]
  },
  {
   "attachments": {},
   "cell_type": "markdown",
   "metadata": {},
   "source": [
    "ami is a template that contains the configuration for your instance. you can choose some pre defined images. after choosing an image we can then choose virtual hardware platform (instance type) we want to put it onto.\n",
    "\n",
    "therefore you dont have to worry about installing any OS. when you choose an OS eg Linux aws will attach and  deploy it for you in the ec2 instance\n",
    "\n",
    "- aws marketplace:\n",
    "\n",
    "on the marketplace you also find the machine images that come with 3rd party software such as firewall, vlc, python, docker, ms office, load balancers... pre installed. they are more expensive since they include usage of actual software as well.\n",
    "\n",
    "amis in the quickstart amis tab are the latest versions.\n",
    "\n",
    "- community AMIs:\n",
    "\n",
    "the amis has been shared by people for public use.\n"
   ]
  },
  {
   "attachments": {},
   "cell_type": "markdown",
   "metadata": {},
   "source": [
    "<H4> Steps to use EC2"
   ]
  },
  {
   "attachments": {},
   "cell_type": "markdown",
   "metadata": {},
   "source": [
    "1. Choose AMI\n",
    "- softwares and application packages we will need to run our app\n",
    "\n",
    "2. Choose instance type\n",
    "- choose instance type eg standard instace depending on task at hand\n",
    "\n",
    "3. Configure instance\n",
    "- how many instance do i want\n",
    "- which subnet do i want them in\n",
    "- whats gonna be the stop and terminate behaviour of instance\n",
    "- do i want to update patches when the instance is running\n",
    "\n",
    "4. Adding storage\n",
    "- eg S3\n",
    "\n",
    "5. Adding tags\n",
    "- used to identify ec2 instance\n",
    "- give meaningful names to know which team it belongs to, which billing departmnet it belongs to\n",
    "- you can run more than 500 instances so its important to know tags\n",
    "\n",
    "6. Configure Security group\n",
    "- allow or deny connection to external and internal world\n",
    "- this firewall blocks connection based on port number and ip address\n",
    "\n",
    "7. Review\n",
    "- review all configurations\n",
    "\n",
    "\n",
    "\n",
    "\n",
    "\n"
   ]
  },
  {
   "attachments": {},
   "cell_type": "markdown",
   "metadata": {},
   "source": [
    "<H3> Elastic Block store - EBS"
   ]
  },
  {
   "attachments": {},
   "cell_type": "markdown",
   "metadata": {},
   "source": [
    "- underlying storage used with ec2 instancew"
   ]
  },
  {
   "attachments": {},
   "cell_type": "markdown",
   "metadata": {},
   "source": [
    "<H3> Tags"
   ]
  },
  {
   "attachments": {},
   "cell_type": "markdown",
   "metadata": {},
   "source": [
    "- theres gonna be some detailed metadata associated with each instance.\n",
    "- therefore obj storage is rich with meta data, therefore you can run SQL queries\n",
    "- help other identify info about the instance\n",
    "- help do cost management as well"
   ]
  },
  {
   "cell_type": "markdown",
   "metadata": {},
   "source": []
  },
  {
   "cell_type": "markdown",
   "metadata": {},
   "source": []
  },
  {
   "cell_type": "markdown",
   "metadata": {},
   "source": []
  },
  {
   "cell_type": "markdown",
   "metadata": {},
   "source": []
  },
  {
   "cell_type": "markdown",
   "metadata": {},
   "source": []
  },
  {
   "cell_type": "markdown",
   "metadata": {},
   "source": []
  },
  {
   "cell_type": "markdown",
   "metadata": {},
   "source": []
  }
 ],
 "metadata": {
  "kernelspec": {
   "display_name": "Python 3",
   "language": "python",
   "name": "python3"
  },
  "language_info": {
   "name": "python",
   "version": "3.10.2"
  },
  "orig_nbformat": 4,
  "vscode": {
   "interpreter": {
    "hash": "d067567a45b8f23f20893b96648ea0bdbfd0e7249a1e525a925501ea4bfa66c0"
   }
  }
 },
 "nbformat": 4,
 "nbformat_minor": 2
}
