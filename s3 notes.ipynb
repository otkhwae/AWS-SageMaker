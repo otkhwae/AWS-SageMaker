{
 "cells": [
  {
   "attachments": {},
   "cell_type": "markdown",
   "metadata": {},
   "source": [
    "# What is cloud computing"
   ]
  },
  {
   "attachments": {},
   "cell_type": "markdown",
   "metadata": {},
   "source": [
    "- cloud coomputing is the distribution of computing services via the internet (cloud), including servers, storage, databases, networking, software, analytics and intelligence to provide faster innovation, more flexible resources and economies of scale.\n",
    "-  cloud computing is you gaining access to infrustructure through web services with a pay as you go model."
   ]
  },
  {
   "attachments": {},
   "cell_type": "markdown",
   "metadata": {},
   "source": [
    "aws is a cloud computing platform that offers many web services like storage, web hosting, load balancing, auto scaling... through api calls. some can be infrustructure as a service, software as a service and platforma as a service.\n",
    "\n",
    "we can do auto scaling that will respond to increased demand eg app becoming more popular, you want that infrustructure to grow elastically. traditionally doing this on prem will be expensive, slow, difficult to implement.\n",
    "\n",
    "by going with a cloud provider youll avoid all these problems like no capital cost just operational cost, no buying infrustruccture before hand. with aws you pay as you go not upfront payment.\n",
    "\n",
    "with all these we can just concentrate in our business. in aws we can easily setup our databases, automate our backups, hvae more backups"
   ]
  },
  {
   "attachments": {},
   "cell_type": "markdown",
   "metadata": {},
   "source": [
    "# Amazon Simple Storage Service - S3"
   ]
  },
  {
   "attachments": {},
   "cell_type": "markdown",
   "metadata": {},
   "source": [
    "S3 is a storage service that allows enterprises/ individual to store,organise and protect (finely tuned access controls) any amount of data in the cloud.\n",
    "\n",
    "S3 is built to be extremely robust & simple."
   ]
  },
  {
   "attachments": {},
   "cell_type": "markdown",
   "metadata": {},
   "source": [
    "<H8> finely tuned access controls:\n",
    "- you can give specific people in a specific company access to a specific bucket, you can maybe block them from accessing specific folders...\n",
    "\n",
    "<H8> S3 offers enhanced features like:\n",
    "- Scalability\n",
    "- security\n",
    "- performance\n",
    "- data availability"
   ]
  },
  {
   "attachments": {},
   "cell_type": "markdown",
   "metadata": {},
   "source": [
    "<H8> Bucket/ directory:\n",
    "- folder where we are gonna store data\n",
    "- a bucket is a container for objects.\n",
    "- each bucket have global/ universal unique name. so you cant have same bucket name as ewveryone.\n",
    "- you can store infinite amount of data in each bucket but an object can have max size of 5 TB\n",
    "- S3 llows to collect, store and analyze data from anywhere in any amount\n",
    "- dat is store in 3 availability zones to ensure data protection\n",
    " s3 is fully encrypted to ensure security"
   ]
  },
  {
   "attachments": {},
   "cell_type": "markdown",
   "metadata": {},
   "source": [
    "<H8> Benefits of s3:\n",
    "\n",
    "- scalable, available, durability\n",
    "- cost effective storage classes: trasition of obj depending on usage frequency\n",
    "- security : encryption at either start, rest or trasition, object lock, or bucket level security (access control)\n",
    "- query inplace (sql) at bucket level"
   ]
  },
  {
   "attachments": {},
   "cell_type": "markdown",
   "metadata": {},
   "source": [
    "<H8> Objects & Buckets in S3:\n",
    "\n",
    "- "
   ]
  },
  {
   "cell_type": "markdown",
   "metadata": {},
   "source": []
  },
  {
   "cell_type": "markdown",
   "metadata": {},
   "source": []
  }
 ],
 "metadata": {
  "kernelspec": {
   "display_name": "Python 3",
   "language": "python",
   "name": "python3"
  },
  "language_info": {
   "name": "python",
   "version": "3.10.2"
  },
  "orig_nbformat": 4,
  "vscode": {
   "interpreter": {
    "hash": "d067567a45b8f23f20893b96648ea0bdbfd0e7249a1e525a925501ea4bfa66c0"
   }
  }
 },
 "nbformat": 4,
 "nbformat_minor": 2
}
