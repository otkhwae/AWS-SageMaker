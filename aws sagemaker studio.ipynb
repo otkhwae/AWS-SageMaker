{
 "cells": [
  {
   "attachments": {},
   "cell_type": "markdown",
   "metadata": {},
   "source": [
    "## What is AWS SAGEMAKER STUDIO (ASMS)"
   ]
  },
  {
   "attachments": {},
   "cell_type": "markdown",
   "metadata": {},
   "source": [
    "ASMS is a web based visual interface or a fully integrated development environment (IDE) for machine learning, where developers can build, train and deploy AI/ML models in one place. it provides one place for everything you want to do in ML in one browser tab, eg:\n",
    "- Build model\n",
    "- Train & Tune model\n",
    "- Deploy & manage model\n",
    "\n",
    "ASMS does all ML development activities including:\n",
    "- notebooks\n",
    "- experiment management\n",
    "- automatic model creation\n",
    "- debugging\n",
    "- model drift detection"
   ]
  },
  {
   "attachments": {},
   "cell_type": "markdown",
   "metadata": {},
   "source": [
    "NB: labelling cant be done within ASMS but done separately in sagemaker ground truth. once you have labelled data you'll be able to do everything in ASMS"
   ]
  },
  {
   "attachments": {},
   "cell_type": "markdown",
   "metadata": {},
   "source": [
    "### ASMS consist of:\n",
    "##### builds, train & tune model:\n",
    "1. amazon SM autopilot \n",
    "\n",
    "##### build models:\n",
    "1. SM notebooks\n",
    "2. AWS Marketplae\n",
    "\n",
    "##### Traind & Tune models:\n",
    "1. SM Experiments\n",
    "2. SM Debugger\n",
    "3. Automatic Model Tuning \n",
    "\n",
    "##### Deploy & Manage models:\n",
    "1. SM model monitor\n",
    "2. SM neo\n",
    "3. Augmented AI"
   ]
  },
  {
   "attachments": {},
   "cell_type": "markdown",
   "metadata": {},
   "source": [
    "#### Amazon sagemaker autopilot\n",
    "you'll be able to automatically build and training model without having or knowing to code at all. all you got to do is upload dat to s3 and pass to autopilot to build and train model for you.\n",
    "not just 1 model SM will be able to make multiple models, train with different strategies. the it'll show you all different models trained for you and select whichever you want, the best one. then you click deploy and thats it youre done. itll tell you parameters used, why it chose it\n",
    "\n",
    "#### SM notebooks\n",
    "instead of defining or starting or instantiating a notebook instance, a notebook can be created straight away without having to worry about whats happening in the background. its a 1 click notebook instantiation"
   ]
  },
  {
   "attachments": {},
   "cell_type": "markdown",
   "metadata": {},
   "source": [
    "#### SM Experiments\n",
    "You can capture and organise experiments, in one place\n",
    "\n",
    "#### Automatic model tuning\n",
    "you can perform automatic hyper parameter tuning by just a click to improve model performance and robustness."
   ]
  },
  {
   "attachments": {},
   "cell_type": "markdown",
   "metadata": {},
   "source": [
    "#### SM Model monitor\n",
    "after model is deployed you can monitor the model to look at model predictions and to see if the model is drifting or not. is it performing well or not to new data the model has never seen before. basically monitor bias\n",
    "\n",
    "#### Augmented AI\n",
    "you will bw able to add human review, for model predictions, basically ai along with humans where ai has very low confidence/ accurate. humans can review what the ai is predicting and come up with much better performance afterwards"
   ]
  },
  {
   "attachments": {},
   "cell_type": "markdown",
   "metadata": {},
   "source": [
    "### Features of ASMS:\n",
    "1. Collaboration at scale:\n",
    "- share notbook without tracking any code dependencies. seamless integration\n",
    "\n",
    "2. easy experiment management:\n",
    "- organize, track and compare thousands of experiments in 1 place. initiaaly managing all experiments, hyperparameter tuning, data ... is hectic job and troublesome when it comes to collaborations\n",
    "\n",
    "3. automatic model generation:\n",
    "- get accurate models with full visibility and control without writing code. eg using Amazon sagemaker autopilot\n",
    "\n",
    "4. higher quality ml models:\n",
    "- automatically debug errors, monitor models and maintain high quality.\n",
    "\n",
    "5.  increased prodeuctivity:\n",
    "- code, build, train, deploy and monitor in a unified visual inference."
   ]
  },
  {
   "cell_type": "markdown",
   "metadata": {},
   "source": []
  }
 ],
 "metadata": {
  "kernelspec": {
   "display_name": "Python 3",
   "language": "python",
   "name": "python3"
  },
  "language_info": {
   "codemirror_mode": {
    "name": "ipython",
    "version": 3
   },
   "file_extension": ".py",
   "mimetype": "text/x-python",
   "name": "python",
   "nbconvert_exporter": "python",
   "pygments_lexer": "ipython3",
   "version": "3.10.2"
  },
  "orig_nbformat": 4,
  "vscode": {
   "interpreter": {
    "hash": "d067567a45b8f23f20893b96648ea0bdbfd0e7249a1e525a925501ea4bfa66c0"
   }
  }
 },
 "nbformat": 4,
 "nbformat_minor": 2
}
